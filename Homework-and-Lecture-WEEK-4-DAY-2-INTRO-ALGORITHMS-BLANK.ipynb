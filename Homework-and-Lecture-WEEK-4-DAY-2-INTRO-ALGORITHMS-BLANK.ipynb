{
 "cells": [
  {
   "cell_type": "markdown",
   "metadata": {},
   "source": [
    "# Algorithms, Binary Search & Linked Lists"
   ]
  },
  {
   "cell_type": "markdown",
   "metadata": {},
   "source": [
    "## Tasks Today:\n",
    " \n",
    "1) <b>In-Place Algorithms</b> <br>\n",
    " &nbsp;&nbsp;&nbsp;&nbsp; a) Syntax <br>\n",
    " &nbsp;&nbsp;&nbsp;&nbsp; a) Out of Place Algorithm <br>\n",
    " &nbsp;&nbsp;&nbsp;&nbsp; b) In-Class Exercise #1 <br>\n",
    "2) <b>Two Pointers</b> <br>\n",
    "3) <b>Linked Lists</b> <br>\n",
    "4) <b>Merge Sort</b> <br>\n",
    " &nbsp;&nbsp;&nbsp;&nbsp; a) Video on Algorithms <br>\n",
    " &nbsp;&nbsp;&nbsp;&nbsp; b) How it Works <br>\n",
    "5) <b>Exercises</b> <br>\n",
    " &nbsp;&nbsp;&nbsp;&nbsp; a) Exercise #1 - Reverse a List in Place Using an In-Place Algorithm <br>\n",
    " &nbsp;&nbsp;&nbsp;&nbsp; b) Exercise #2 - Find Distinct Words <br>\n",
    " &nbsp;&nbsp;&nbsp;&nbsp; c) Exercise #3 - Write a program to implement a Linear Search Algorithm. <br>"
   ]
  },
  {
   "cell_type": "markdown",
   "metadata": {},
   "source": [
    "## In-Place Algorithms"
   ]
  },
  {
   "cell_type": "markdown",
   "metadata": {},
   "source": [
    "#### Syntax"
   ]
  },
  {
   "cell_type": "code",
   "execution_count": 1,
   "metadata": {},
   "outputs": [
    {
     "name": "stdout",
     "output_type": "stream",
     "text": [
      "[1, 100, 5]\n"
     ]
    }
   ],
   "source": [
    "def swap(alist,i_1, i_2):\n",
    "    alist[i_1], alist[i_2] = alist[i_2], alist[i_1]\n",
    "    return alist\n",
    "\n",
    "my_list = [100,1,5]\n",
    "\n",
    "swap(my_list, 0, 1)\n",
    "\n",
    "print(my_list)"
   ]
  },
  {
   "cell_type": "markdown",
   "metadata": {},
   "source": [
    "#### Out of Place Algorithm"
   ]
  },
  {
   "cell_type": "code",
   "execution_count": 3,
   "metadata": {},
   "outputs": [
    {
     "name": "stdout",
     "output_type": "stream",
     "text": [
      "new_list= [1, 2, 3, 4]\n",
      "copy_new_list= [4, 2, 3, 1]\n"
     ]
    }
   ],
   "source": [
    "def swap_copy(alist, i, j):\n",
    "    alist_copy = alist[:]\n",
    "    alist_copy[i], alist_copy[j] = alist_copy[j], alist_copy[i]\n",
    "    return alist_copy\n",
    "\n",
    "new_list =[1,2,3,4]\n",
    "copy_new_list = swap_copy(new_list,0,-1)\n",
    "\n",
    "print(f'{new_list= }\\n{copy_new_list= }')"
   ]
  },
  {
   "cell_type": "markdown",
   "metadata": {},
   "source": [
    "#### In-Class Exercise #1 <br>\n",
    "<p>Write a function that takes in four arguments (list, index1, index2, index3), and swaps those three positions in the list passed in.</p>"
   ]
  },
  {
   "cell_type": "code",
   "execution_count": 5,
   "metadata": {},
   "outputs": [
    {
     "name": "stdout",
     "output_type": "stream",
     "text": [
      "[3, 4, 10, 8, 4, 2, 6]\n"
     ]
    }
   ],
   "source": [
    "l_1 = [10, 4, 3, 8, 4, 2, 6]\n",
    "\n",
    "def mix_list(ex_list, i1,i2,i3):\n",
    "    ex_list[i1], ex_list[i2], ex_list[i3] = ex_list[i3], ex_list[i2], ex_list[i1]\n",
    "    return ex_list\n",
    "\n",
    "print(mix_list(l_1, 0,1,2))\n"
   ]
  },
  {
   "cell_type": "markdown",
   "metadata": {},
   "source": [
    "## Two Pointers"
   ]
  },
  {
   "cell_type": "markdown",
   "metadata": {},
   "source": [
    "#### Syntax"
   ]
  },
  {
   "cell_type": "code",
   "execution_count": 8,
   "metadata": {},
   "outputs": [
    {
     "name": "stdout",
     "output_type": "stream",
     "text": [
      "[10, 9, 1, 2]\n"
     ]
    }
   ],
   "source": [
    "# create two pointers for indecies, increment both indecies based on condition\n",
    "\n",
    "def reverse_list(alist):\n",
    "    left_point, right_point = 0, len(alist)-1\n",
    "    while left_point < right_point:\n",
    "        #created swap in first cell\n",
    "        swap(alist, left_point, right_point)\n",
    "        left_point +=1\n",
    "        #if infinite loop, double check right pointer\n",
    "        right_point -=1\n",
    "\n",
    "list_to_reverse = [10,9,1,2]\n",
    "\n",
    "\n",
    "print(list_to_reverse)\n"
   ]
  },
  {
   "cell_type": "code",
   "execution_count": 9,
   "metadata": {},
   "outputs": [
    {
     "name": "stdout",
     "output_type": "stream",
     "text": [
      "[2, 1, 9, 10]\n"
     ]
    }
   ],
   "source": [
    "\n",
    "def reverse_list2(alist):\n",
    "    left_point, right_point = 0, len(alist)-1\n",
    "    while left_point < right_point:\n",
    "        #created swap in first cell\n",
    "        alist[left_point], alist[right_point] =  alist[right_point], alist[left_point]\n",
    "        left_point +=1\n",
    "        #if infinite loop, double check right pointer\n",
    "        right_point -=1\n",
    "\n",
    "list_to_reverse = [10,9,1,2]\n",
    "reverse_list2(list_to_reverse)\n",
    "\n",
    "print(list_to_reverse)\n"
   ]
  },
  {
   "cell_type": "code",
   "execution_count": 14,
   "metadata": {},
   "outputs": [
    {
     "name": "stdout",
     "output_type": "stream",
     "text": [
      "racecar is a palindrome\n",
      "matrix is not a palindrome\n",
      "professorrosseforp is a palindrome\n"
     ]
    }
   ],
   "source": [
    "# racecar = palindrome\n",
    "# maxtrix =not a palindrome\n",
    "# two pointers are great to check for palindrome since you can start at each end of the list to check if they are\n",
    "# the same.\n",
    "\n",
    "def palindrome(astring):\n",
    "    left_point, right_point = 0, len(astring) - 1\n",
    "    while left_point < right_point:\n",
    "        if astring[left_point] != astring[right_point]:\n",
    "            return f\"{astring} is not a palindrome\"\n",
    "        left_point += 1\n",
    "        right_point -= 1\n",
    "    return f\"{astring} is a palindrome\"\n",
    "\n",
    "print(palindrome('racecar'))\n",
    "print(palindrome('matrix'))\n",
    "print(palindrome('professorrosseforp'))\n",
    "    \n"
   ]
  },
  {
   "cell_type": "code",
   "execution_count": 15,
   "metadata": {},
   "outputs": [
    {
     "name": "stdout",
     "output_type": "stream",
     "text": [
      "True\n",
      "False\n",
      "True\n"
     ]
    }
   ],
   "source": [
    "# less efficient option, with two pointers while loops are a better option\n",
    "\n",
    "def check_palindrome(astring):\n",
    "    right_point = len(astring) - 1\n",
    "    for left_point in range(len(astring)):\n",
    "        if astring[left_point] != astring[right_point]:\n",
    "            return False\n",
    "        right_point -=1\n",
    "    return True\n",
    "\n",
    "print(check_palindrome('racecar'))\n",
    "print(check_palindrome('matrix'))\n",
    "print(check_palindrome('professorrosseforp'))"
   ]
  },
  {
   "cell_type": "markdown",
   "metadata": {},
   "source": [
    "#### Video of Algorithms <br>\n",
    "<p>Watch the video about algorithms.</p>\n",
    "\n",
    "https://www.youtube.com/watch?v=Q9HjeFD62Uk\n",
    "\n",
    "https://www.youtube.com/watch?v=kPRA0W1kECg\n",
    "\n",
    "https://www.youtube.com/watch?v=ZZuD6iUe3Pc"
   ]
  },
  {
   "cell_type": "markdown",
   "metadata": {},
   "source": [
    "# Sorting Algorithms"
   ]
  },
  {
   "cell_type": "markdown",
   "metadata": {},
   "source": [
    "#### Bubble Sort\n",
    "\n",
    "Worst Case: O(n^2) Time - O(1) Space"
   ]
  },
  {
   "cell_type": "code",
   "execution_count": 19,
   "metadata": {},
   "outputs": [
    {
     "name": "stdout",
     "output_type": "stream",
     "text": [
      "num_list= [1, 3, 5, 7, 10, 11, 19] after sort.\n"
     ]
    }
   ],
   "source": [
    "num_list = [3,1,19,5,10,11,7]\n",
    "#[1,3,5,10,11,7,19]\n",
    "#[1,3,5,10,7,11,19]\n",
    "#[1,3,5,7,10,11,19]\n",
    "\n",
    "\n",
    "\n",
    "#create two pointers to look at two numbers side by side (=bubble)\n",
    "#say it's sorted until we find a bubble out of order\n",
    "#compare each number in bubble and swap if out of order\n",
    "#after swap, set flag to unsorted\n",
    "#move bubble\n",
    "#after each pass, we know our right boundary/right edge of list in correct position\n",
    "#do while unsorted\n",
    "\n",
    "def bubble_sort(alist):\n",
    "    left_point, right_point = 0, 1\n",
    "    not_sorted = True\n",
    "    while not_sorted:\n",
    "        left_point, right_point = 0, 1\n",
    "        not_sorted = False\n",
    "        while right_point < len(alist[:]):\n",
    "            if alist[left_point] > alist[right_point]:\n",
    "                swap(alist, left_point, right_point)\n",
    "                not_sorted = True\n",
    "            left_point +=1\n",
    "            right_point +=1\n",
    "        \n",
    "bubble_sort(num_list)\n",
    "\n",
    "print(f\"{num_list= } after sort.\")"
   ]
  },
  {
   "cell_type": "markdown",
   "metadata": {},
   "source": [
    "##### Insertion Sort\n",
    "\n",
    "Worst Case: O(n^2) time - O(1)space"
   ]
  },
  {
   "cell_type": "code",
   "execution_count": 24,
   "metadata": {},
   "outputs": [
    {
     "name": "stdout",
     "output_type": "stream",
     "text": [
      "[0, 1, 2, 4, 9, 10, 11]\n"
     ]
    }
   ],
   "source": [
    "# mark first element as sorted\n",
    "# for each unsorted element x\n",
    "# 'extract' the element x\n",
    "# for j = lastSortedIndex down to 0\n",
    "# if current element j > x\n",
    "# move sorted element ot the right by 1\n",
    "# break loop and insert x here\n",
    "\n",
    "\n",
    "def insertion_sort(alist):\n",
    "    for i in range(1,len(alist)):\n",
    "        current_value=alist[i]\n",
    "        j =i-1\n",
    "        while j >=0 and current_value < alist[j]:\n",
    "            alist[j+1] = alist[j]\n",
    "            j-=1\n",
    "        alist[j+1] = current_value\n",
    "            \n",
    "            \n",
    "num_list = [10,9,1,4,2,11,0]\n",
    "insertion_sort(num_list)\n",
    "\n",
    "print(num_list)\n",
    "            "
   ]
  },
  {
   "cell_type": "code",
   "execution_count": 22,
   "metadata": {},
   "outputs": [
    {
     "name": "stdout",
     "output_type": "stream",
     "text": [
      "[0, 1, 2, 4, 9, 10, 11]\n"
     ]
    }
   ],
   "source": [
    "def insertion_sort(alist):\n",
    "    for i in range(1, len(alist)):\n",
    "        current_value = alist[i]\n",
    "        j = i - 1\n",
    "        while j >= 0 and current_value < alist[j]:\n",
    "            alist[j + 1] = alist[j]\n",
    "            j -= 1\n",
    "        alist[j + 1] = current_value\n",
    "\n",
    "num_list = [10, 9, 1, 4, 2, 11, 0]\n",
    "insertion_sort(num_list)\n",
    "print(num_list)\n"
   ]
  },
  {
   "cell_type": "markdown",
   "metadata": {},
   "source": [
    "## Merge Sort"
   ]
  },
  {
   "cell_type": "markdown",
   "metadata": {},
   "source": [
    "#### How it Works"
   ]
  },
  {
   "cell_type": "code",
   "execution_count": 34,
   "metadata": {},
   "outputs": [
    {
     "name": "stdout",
     "output_type": "stream",
     "text": [
      "Splitting...[100, 1, 88, 77, 5, 99, 2, 60]\n",
      "left_half = [100, 1, 88, 77] right_half = [5, 99, 2, 60]\n",
      "Splitting...[100, 1, 88, 77]\n",
      "left_half = [100, 1] right_half = [88, 77]\n",
      "Splitting...[100, 1]\n",
      "left_half = [100] right_half = [1]\n",
      "[1, 100]\n",
      "Splitting...[88, 77]\n",
      "left_half = [88] right_half = [77]\n",
      "[77, 88]\n",
      "[1, 77, 88, 100]\n",
      "Splitting...[5, 99, 2, 60]\n",
      "left_half = [5, 99] right_half = [2, 60]\n",
      "Splitting...[5, 99]\n",
      "left_half = [5] right_half = [99]\n",
      "[5, 99]\n",
      "Splitting...[2, 60]\n",
      "left_half = [2] right_half = [60]\n",
      "[2, 60]\n",
      "[2, 5, 60, 99]\n",
      "[1, 2, 5, 60, 77, 88, 99, 100]\n",
      "[1, 2, 5, 60, 77, 88, 99, 100]\n"
     ]
    }
   ],
   "source": [
    "# recursively split list into halfs until size of 1\n",
    "#compare the numbers in the start of each list finding smaller of two\n",
    "#take smaller value and plug it into list it came from\n",
    "#until all of this list is complete then add remaining from other list\n",
    "# our_list = [2,7,1,6,3,5]\n",
    "\n",
    "# [1,3, 6] [2,5,7]\n",
    "\n",
    "# [1,3] [6] [5,2] [7]\n",
    "\n",
    "def merge_sort(alist):\n",
    "    print(f'Splitting...{alist}')\n",
    "    middle = len(alist) // 2\n",
    "    left_half = alist[:middle]\n",
    "    right_half = alist[middle:]\n",
    "    print(f'{left_half = } {right_half = }')\n",
    "    \n",
    "    if len(left_half) > 1:\n",
    "        merge_sort(left_half)\n",
    "        merge_sort(right_half)\n",
    "\n",
    "#   left_point, right_point, og_point =0,0,0\n",
    "    left_point = right_point = og_point =0 \n",
    "    while left_point < len(left_half) and right_point < len(right_half):\n",
    "        if left_half[left_point] < right_half[right_point]:\n",
    "            alist[og_point] = left_half[left_point]\n",
    "            left_point +=1\n",
    "        else:\n",
    "            alist[og_point] =right_half[right_point]\n",
    "            right_point +=1\n",
    "        og_point += 1\n",
    "        \n",
    "    while left_point < len(left_half):\n",
    "        alist[og_point] = left_half[left_point]\n",
    "        left_point +=1\n",
    "        og_point +=1\n",
    "        \n",
    "    while right_point < len(right_half):\n",
    "        alist[og_point] = right_half[right_point]\n",
    "        right_point +=1\n",
    "        og_point +=1\n",
    "    print(f'{alist}')\n",
    "            \n",
    "my_list = [100,1,88,77,5,99,2, 60]\n",
    "merge_sort(my_list)      \n",
    "\n",
    "print(my_list)"
   ]
  },
  {
   "cell_type": "code",
   "execution_count": 39,
   "metadata": {},
   "outputs": [
    {
     "name": "stdout",
     "output_type": "stream",
     "text": [
      "[1, 2]\n",
      "[1]\n",
      "['sean', 'dylan']\n",
      "['dylan']\n",
      "sean\n"
     ]
    }
   ],
   "source": [
    "#stack - LIFO (last in, first out) --> stack of paper, pringles can, undo button.\n",
    "\n",
    "stack = []\n",
    "\n",
    "stack.append(1)\n",
    "stack.append(2) #O(1)\n",
    "print(stack)\n",
    "stack.pop() #O(1)\n",
    "print(stack)\n",
    "\n",
    "\n",
    "# Queue FIFO (First in, first out) --> waiting list, a queue\n",
    "queue = []\n",
    "queue.append('sean') #O(1)\n",
    "queue.append('dylan') #O(1)\n",
    "print(queue) \n",
    "first_joined = queue.pop(0) #O(N)\n",
    "print(queue)\n",
    "print(first_joined)"
   ]
  },
  {
   "cell_type": "code",
   "execution_count": 43,
   "metadata": {},
   "outputs": [
    {
     "name": "stdout",
     "output_type": "stream",
     "text": [
      "monday tuesday wednesday thursday "
     ]
    }
   ],
   "source": [
    "# Node: has a value and a connection to the next node\n",
    "\n",
    "class Node:\n",
    "    def __init__(self, value):\n",
    "        self.value = value\n",
    "        self.right = None\n",
    "        self.left = None\n",
    "    \n",
    "    def __repr__(self):\n",
    "        return f'<Node: {self.value}>'\n",
    "        \n",
    "node = Node('monday')\n",
    "node2 = Node('tuesday')\n",
    "node3 = Node('wednesday')    \n",
    "node4 = Node('thursday')\n",
    "             \n",
    "node.right= node2\n",
    "node2.right=node3\n",
    "node2.right.right=node4\n",
    "\n",
    "current_node = node\n",
    "while current_node:\n",
    "    print(f'{current_node.value}' ,end=' ')\n",
    "    current_node=current_node.right"
   ]
  },
  {
   "cell_type": "code",
   "execution_count": null,
   "metadata": {},
   "outputs": [],
   "source": [
    "# Once upon a time, on a way through the old wild mountainous west,…\n",
    "# … a man was given directions to go from one point to another. The directions were \"NORTH\", \"SOUTH\", \"WEST\", \"EAST\". Clearly \"NORTH\" and \"SOUTH\" are opposite, \"WEST\" and \"EAST\" too.\n",
    "\n",
    "# Going to one direction and coming back the opposite direction right away is a needless effort. Since this is the wild west, with dreadful weather and not much water, it's important to save yourself some energy, otherwise you might die of thirst!\n",
    "\n",
    "# How I crossed a mountainous desert the smart way.\n",
    "# The directions given to the man are, for example, the following (depending on the language):\n",
    "\n",
    "# [\"NORTH\", \"SOUTH\", \"SOUTH\", \"EAST\", \"WEST\", \"NORTH\", \"WEST\"].\n",
    "# or\n",
    "# { \"NORTH\", \"SOUTH\", \"SOUTH\", \"EAST\", \"WEST\", \"NORTH\", \"WEST\" };\n",
    "# or\n",
    "# [North, South, South, East, West, North, West]\n",
    "# You can immediately see that going \"NORTH\" and immediately \"SOUTH\" is not reasonable, better stay to the same place! So the task is to give to the man a simplified version of the plan. A better plan in this case is simply:\n",
    "\n",
    "# [\"WEST\"]\n",
    "# or\n",
    "# { \"WEST\" }\n",
    "# or\n",
    "# [West]\n",
    "# Other examples:\n",
    "# In [\"NORTH\", \"SOUTH\", \"EAST\", \"WEST\"], the direction \"NORTH\" + \"SOUTH\" is going north and coming back right away.\n",
    "\n",
    "# The path becomes [\"EAST\", \"WEST\"], now \"EAST\" and \"WEST\" annihilate each other, therefore, the final result is [] (nil in Clojure).\n",
    "\n",
    "# In [\"NORTH\", \"EAST\", \"WEST\", \"SOUTH\", \"WEST\", \"WEST\"], \"NORTH\" and \"SOUTH\" are not directly opposite but they become directly opposite after the reduction of \"EAST\" and \"WEST\" so the whole path is reducible to [\"WEST\", \"WEST\"].\n",
    "\n",
    "# Task\n",
    "# Write a function dirReduc which will take an array of strings and returns an array of strings with the needless directions removed (W<->E or S<->N side by side).\n",
    "\n",
    "# The Haskell version takes a list of directions with data Direction = North | East | West | South.\n",
    "# The Clojure version returns nil when the path is reduced to nothing.\n",
    "# The Rust version takes a slice of enum Direction {North, East, West, South}.\n",
    "# See more examples in \"Sample Tests:\"\n",
    "# Notes\n",
    "# Not all paths can be made simpler. The path [\"NORTH\", \"WEST\", \"SOUTH\", \"EAST\"] is not reducible. \"NORTH\" and \"WEST\", \"WEST\" and \"SOUTH\", \"SOUTH\" and \"EAST\" are not directly opposite of each other and can't become such. Hence the result path is itself : [\"NORTH\", \"WEST\", \"SOUTH\", \"EAST\"].\n",
    "# if you want to translate, please ask before translating."
   ]
  },
  {
   "cell_type": "code",
   "execution_count": null,
   "metadata": {},
   "outputs": [],
   "source": [
    "def dirReduc(arr):\n",
    "    opposites = {\n",
    "        'NORTH': 'SOUTH', \n",
    "        'SOUTH': 'NORTH', \n",
    "        'EAST':'WEST', \n",
    "        'WEST': 'EAST'\n",
    "    }\n",
    "    \n",
    "    stack = []\n",
    "    \n",
    "    for dir in arr:\n",
    "        if not stack or opposites[dir] != stack[-1]:\n",
    "            stack.append(dir)\n",
    "        else:\n",
    "            stack.pop()\n",
    "    return stack"
   ]
  },
  {
   "cell_type": "code",
   "execution_count": null,
   "metadata": {},
   "outputs": [],
   "source": []
  },
  {
   "cell_type": "markdown",
   "metadata": {},
   "source": [
    "# Binary Search\n",
    "\n",
    "The Binary Search algorithm works by finding the number in the middle of a given array and comparing it to the target. Given that the array is sorted\n",
    "\n",
    "* The worst case run time for this algorithm is `O(log(n))`"
   ]
  },
  {
   "cell_type": "code",
   "execution_count": null,
   "metadata": {},
   "outputs": [],
   "source": []
  },
  {
   "cell_type": "markdown",
   "metadata": {},
   "source": [
    "# Exercises"
   ]
  },
  {
   "cell_type": "markdown",
   "metadata": {},
   "source": [
    "### Exercise #1 <br>\n",
    "<p>Reverse the list below in-place using an in-place algorithm.<br>For extra credit: Reverse the strings at the same time.</p>"
   ]
  },
  {
   "cell_type": "code",
   "execution_count": 82,
   "metadata": {},
   "outputs": [
    {
     "name": "stdout",
     "output_type": "stream",
     "text": [
      "['.', 'sentence', 'a', 'is', 'this']\n"
     ]
    }
   ],
   "source": [
    "words = ['this' , 'is', 'a', 'sentence', '.']\n",
    "\n",
    "def bkwrd_str(alist):\n",
    "    return alist[::-1]\n",
    "\n",
    "print(bkwrd_str(words))"
   ]
  },
  {
   "cell_type": "code",
   "execution_count": 81,
   "metadata": {},
   "outputs": [
    {
     "name": "stdout",
     "output_type": "stream",
     "text": [
      "['.', 'sentence', 'a', 'is', 'this']\n"
     ]
    }
   ],
   "source": [
    "\"\"\"\n",
    "or this...\n",
    "\"\"\"\n",
    "words = ['this' , 'is', 'a', 'sentence', '.']\n",
    "\n",
    "def bkwrd_str(alist, i1, i2, i3, i4, i5):\n",
    "    alist[i1], alist[i2], alist[i3], alist[i4], alist[i5] = alist[i5], alist[i4], alist[i3], alist[i2], alist[i1]\n",
    "    return str(alist) \n",
    "\n",
    "print(bkwrd_str(words, 0, 1, 2, 3, 4))"
   ]
  },
  {
   "cell_type": "code",
   "execution_count": 61,
   "metadata": {},
   "outputs": [
    {
     "name": "stdout",
     "output_type": "stream",
     "text": [
      "]'siht' ,'si' ,'a' ,'ecnetnes' ,'.'[\n"
     ]
    }
   ],
   "source": [
    "\"\"\"\n",
    "first attempt at reversing letter order\n",
    "\"\"\"\n",
    "\n",
    "words = ['this' , 'is', 'a', 'sentence', '.']\n",
    "\n",
    "def bkwrd_str(alist, i1, i2, i3, i4, i5):\n",
    "    alist[i1], alist[i2], alist[i3], alist[i4], alist[i5] = alist[i5], alist[i4], alist[i3], alist[i2], alist[i1]\n",
    "    return str(alist)[::-1] #produced ]'siht' ,'si' ,'a' ,'ecnetnes' ,'.'[ which is on the right track, but want\n",
    "                                #to avoid flipping the brackets.\n",
    "\n",
    "print(bkwrd_str(words, 0, 1, 2, 3, 4))"
   ]
  },
  {
   "cell_type": "code",
   "execution_count": 65,
   "metadata": {},
   "outputs": [
    {
     "name": "stdout",
     "output_type": "stream",
     "text": [
      "['.', 'ecnetnes', 'a', 'si', 'siht']\n"
     ]
    }
   ],
   "source": [
    "\"\"\"\n",
    "Got the reverse!\n",
    "\"\"\"\n",
    "\n",
    "words = ['this' , 'is', 'a', 'sentence', '.']\n",
    "\n",
    "def bkwrd_str(alist, i1, i2, i3, i4, i5):\n",
    "    new_list = []\n",
    "    alist[i1], alist[i2], alist[i3], alist[i4], alist[i5] = alist[i5], alist[i4], alist[i3], alist[i2], alist[i1]\n",
    "    for word in words:\n",
    "        new_list.append(word[::-1])\n",
    "    return new_list\n",
    "\n",
    "print(bkwrd_str(words, 0, 1, 2, 3, 4))"
   ]
  },
  {
   "cell_type": "markdown",
   "metadata": {},
   "source": [
    "### Exercise #2 <br>\n",
    "<p>Create a function that counts how many distinct words are in the string below, then outputs a dictionary with the words as the key and the value as the amount of times that word appears in the string.<br>Should output:<br>{'a': 5,<br>\n",
    " 'abstract': 1,<br>\n",
    " 'an': 3,<br>\n",
    " 'array': 2, ... etc...</p>"
   ]
  },
  {
   "cell_type": "code",
   "execution_count": 80,
   "metadata": {},
   "outputs": [
    {
     "name": "stdout",
     "output_type": "stream",
     "text": [
      "{'a': 5, 'abstract': 1, 'an': 3, 'array': 2, 'associative': 1, 'be': 1, 'buckets': 1, 'can': 2, 'compute': 1, 'computing': 1, 'data': 2, 'desired': 1, 'found': 1, 'from': 1, 'function': 1, 'hash': 4, 'implements': 1, 'in': 1, 'index': 1, 'into': 1, 'is': 1, 'keys': 1, 'map': 2, 'of': 1, 'or': 1, 'slots': 1, 'structure': 2, 'table': 2, 'that': 1, 'the': 1, 'to': 2, 'type': 1, 'uses': 1, 'value': 1, 'values': 1, 'which': 2}\n"
     ]
    }
   ],
   "source": [
    "import re\n",
    "\n",
    "a_text = 'In computing, a hash table hash map is a data structure which implements an associative array abstract data type, a structure that can map keys to values. A hash table uses a hash function to compute an index into an array of buckets or slots from which the desired value can be found'\n",
    "\n",
    "def unique_count(astring):\n",
    "    unique_dict = {}\n",
    "    words = re.findall(r'\\b\\w+\\b', astring.casefold()) #use a raw string when looking for boundaries\n",
    "                                                        #findall(pattern, string) \n",
    "                                                        # --> pattern = boudnary, words, boundary, i.e. identify\n",
    "                                                        # words/digits that are bounded by punctuation or \n",
    "                                                        # whitespace.\n",
    "                                                        # --> string = the input but in casefold for a case-\n",
    "                                                        # insensitive comparison.\n",
    "    for word in words:\n",
    "        if word not in unique_dict:\n",
    "            unique_dict[word] = 1 #add if not there\n",
    "        else:\n",
    "            unique_dict[word] += 1 #increment if there\n",
    "    return dict(sorted(unique_dict.items())) #.items() pulls the keys\n",
    "\n",
    "print(unique_count(a_text))"
   ]
  },
  {
   "cell_type": "markdown",
   "metadata": {},
   "source": [
    "## Exercise #3\n",
    "\n",
    "Write a program to implement a Linear Search Algorithm. Also in a comment, write the Time Complexity of the following algorithm.\n",
    "\n",
    "#### Hint: Linear Searching will require searching a list for a given number. "
   ]
  },
  {
   "cell_type": "code",
   "execution_count": 86,
   "metadata": {},
   "outputs": [
    {
     "name": "stdout",
     "output_type": "stream",
     "text": [
      "3\n",
      "No match found\n"
     ]
    }
   ],
   "source": [
    "# linear search(array, desired_value)\n",
    "\n",
    "def linear_search(array, num):\n",
    "    for idx in range(len(array)): #O(N)\n",
    "        if array[idx] == num: #O(1)\n",
    "            return idx #O(1)\n",
    "    return \"No match found\" #O(1)\n",
    "\n",
    "num_list = [13,24,48,5,2,99,6]\n",
    "\n",
    "print(linear_search(num_list, 5))\n",
    "print(linear_search(num_list, 4))\n",
    "\n",
    "\n",
    "#Time Complexity: #O(N)"
   ]
  }
 ],
 "metadata": {
  "kernelspec": {
   "display_name": "Python 3 (ipykernel)",
   "language": "python",
   "name": "python3"
  },
  "language_info": {
   "codemirror_mode": {
    "name": "ipython",
    "version": 3
   },
   "file_extension": ".py",
   "mimetype": "text/x-python",
   "name": "python",
   "nbconvert_exporter": "python",
   "pygments_lexer": "ipython3",
   "version": "3.10.9"
  }
 },
 "nbformat": 4,
 "nbformat_minor": 2
}
