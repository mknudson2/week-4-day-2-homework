{
 "cells": [
  {
   "cell_type": "code",
   "execution_count": null,
   "id": "646fbb5a",
   "metadata": {},
   "outputs": [],
   "source": [
    "# Given an array of integers nums, \n",
    "# a lucky integer is an integer which has a frequency in the array equal to its value.\n",
    "# Return a lucky integer in the array. If there are multiple lucky integers return the largest of them. If \n",
    "# there is no lucky integer return -1.\n",
    "\n",
    "# Example 1:\n",
    "# Input: nums = [2,2,3,4]\t\t\t\t\t\n",
    "\n",
    "# Output: 2\n",
    "# Explanation: The only lucky number in the array is 2 because frequency[2] == 2.\n",
    "\n",
    "# Example 2:\n",
    "# Input: nums = [1,2,2,3,3,3]\n",
    "\n",
    "# Output: 3\n",
    "# Explanation: 1, 2 and 3 are all lucky numbers, return the largest of them."
   ]
  },
  {
   "cell_type": "code",
   "execution_count": 19,
   "id": "cc24f80d",
   "metadata": {},
   "outputs": [
    {
     "name": "stdout",
     "output_type": "stream",
     "text": [
      "-1\n"
     ]
    }
   ],
   "source": [
    "\"\"\"\n",
    "Reqs:\n",
    "1. count the occurance of each number in the array\n",
    "2. return the largest \"lucky\" number\n",
    "\"\"\"\n",
    "\n",
    "def lucky_count(array):\n",
    "    lucky_dict ={} #O(1)\n",
    "    max_list = [] #O(1)\n",
    "    \n",
    "    for num in array: #O(N)\n",
    "        if num not in lucky_dict: #O(1)\n",
    "            lucky_dict[num]= 1 #O(1)\n",
    "        else:\n",
    "            lucky_dict[num]+=1 #O(1)\n",
    "#     return lucky_dict\n",
    "\n",
    "    for numb in lucky_dict: #O(N)\n",
    "#         print(num) \n",
    "        if numb == lucky_dict[numb]: #O(1)\n",
    "            max_list.append(numb) #O(1)\n",
    "#     print(max_list)\n",
    "    if max_list == []: #O(1)\n",
    "        return -1 #O(1)\n",
    "    return max(max_list) #O(N)\n",
    "\n",
    "\n",
    "print (lucky_count([2,3,3]))\n",
    "    \n",
    "\n",
    "#O(3N) --> #O(N)"
   ]
  },
  {
   "cell_type": "code",
   "execution_count": null,
   "id": "85b71ba6",
   "metadata": {},
   "outputs": [],
   "source": [
    "############"
   ]
  },
  {
   "cell_type": "code",
   "execution_count": 27,
   "id": "3da86ac6",
   "metadata": {},
   "outputs": [
    {
     "name": "stdout",
     "output_type": "stream",
     "text": [
      "[1, 1, 2, 1, 3, 0, 0]\n"
     ]
    }
   ],
   "source": [
    "# Write an algorithm that takes an array and moves all of the zeros to the end, \n",
    "# preserving the order of the other elements.\n",
    "\n",
    "move_zeros = [1, 0, 1, 2, 0, 1, 3] # returns [1, 1, 2, 1, 3, 0, 0]\n",
    "\n",
    "def mover(arr):\n",
    "    non_zero_list = []\n",
    "    zero_list = []\n",
    "    \n",
    "    for num in arr:\n",
    "        if num == 0:\n",
    "            zero_list.append(num)\n",
    "        else:\n",
    "            non_zero_list.append(num)\n",
    "    return non_zero_list + zero_list\n",
    "\n",
    "print(mover(move_zeros))\n",
    "\n",
    "# def move_zeros(arr):\n",
    "#     for num in arr:\n",
    "#         if num == 0:\n",
    "#             arr.remove(num)\n",
    "#             arr.append(num)\n",
    "#     return arr\n",
    "\n",
    "# move_zeros_list = [1, 0, 1, 2, 0, 1, 3]\n",
    "# print(move_zeros(move_zeros_list))"
   ]
  }
 ],
 "metadata": {
  "kernelspec": {
   "display_name": "Python 3 (ipykernel)",
   "language": "python",
   "name": "python3"
  },
  "language_info": {
   "codemirror_mode": {
    "name": "ipython",
    "version": 3
   },
   "file_extension": ".py",
   "mimetype": "text/x-python",
   "name": "python",
   "nbconvert_exporter": "python",
   "pygments_lexer": "ipython3",
   "version": "3.10.9"
  }
 },
 "nbformat": 4,
 "nbformat_minor": 5
}
